{
  "nbformat": 4,
  "nbformat_minor": 0,
  "metadata": {
    "colab": {
      "provenance": []
    },
    "kernelspec": {
      "name": "python3",
      "display_name": "Python 3"
    },
    "language_info": {
      "name": "python"
    }
  },
  "cells": [
    {
      "cell_type": "code",
      "execution_count": null,
      "metadata": {
        "colab": {
          "base_uri": "https://localhost:8080/"
        },
        "id": "pKYjKcYtwSdD",
        "outputId": "f3ea4f33-fc00-4734-d6d3-13db9a6160c9"
      },
      "outputs": [
        {
          "output_type": "stream",
          "name": "stdout",
          "text": [
            "Input your First Name : Ouratou\n",
            "Input your Last Name : Marwa\n",
            "Hello  Marwa Ouratou\n"
          ]
        }
      ],
      "source": [
        "fname = input(\"Input your First Name : \")\n",
        "lname = input(\"Input your Last Name : \")\n",
        "print (\"Hello  \" + lname + \" \" + fname)"
      ]
    },
    {
      "cell_type": "code",
      "source": [
        "a = int(input(\"Input an integer : \"))\n",
        "n1 = int( \"%s\" % a )\n",
        "n2 = int( \"%s%s\" % (a,a) )\n",
        "n3 = int( \"%s%s%s\" % (a,a,a) )\n",
        "print (n1+n2+n3)"
      ],
      "metadata": {
        "colab": {
          "base_uri": "https://localhost:8080/"
        },
        "id": "URaAAjccb8EI",
        "outputId": "dd369ad8-41e7-493e-ab96-3a03d6b5dc26"
      },
      "execution_count": null,
      "outputs": [
        {
          "output_type": "stream",
          "name": "stdout",
          "text": [
            "Input an integer : 5\n",
            "615\n"
          ]
        }
      ]
    },
    {
      "cell_type": "code",
      "source": [
        "num = int(input(\"Enter a number: \"))\n",
        "mod = num % 2\n",
        "if mod > 0:\n",
        "    print(\"This is an odd number.\")\n",
        "else:\n",
        "    print(\"This is an even number.\")"
      ],
      "metadata": {
        "colab": {
          "base_uri": "https://localhost:8080/"
        },
        "id": "ZKhIE9uMd9EC",
        "outputId": "a05f771d-950b-481e-d49d-edf79241dd19"
      },
      "execution_count": null,
      "outputs": [
        {
          "output_type": "stream",
          "name": "stdout",
          "text": [
            "Enter a number: 4\n",
            "This is an even number.\n"
          ]
        }
      ]
    },
    {
      "cell_type": "code",
      "source": [
        "nl=[]\n",
        "for x in range(1500, 2701):\n",
        "    if (x%7==0) and (x%5==0):\n",
        "        nl.append(str(x))\n",
        "print (','.join(nl))\n"
      ],
      "metadata": {
        "colab": {
          "base_uri": "https://localhost:8080/"
        },
        "id": "Q1ZfRx7peLzi",
        "outputId": "c11beaad-617a-4b64-a73f-0f27429a99eb"
      },
      "execution_count": null,
      "outputs": [
        {
          "output_type": "stream",
          "name": "stdout",
          "text": [
            "1505,1540,1575,1610,1645,1680,1715,1750,1785,1820,1855,1890,1925,1960,1995,2030,2065,2100,2135,2170,2205,2240,2275,2310,2345,2380,2415,2450,2485,2520,2555,2590,2625,2660,2695\n"
          ]
        }
      ]
    },
    {
      "cell_type": "code",
      "source": [
        "def factorial(n):\n",
        "    if n == 0:\n",
        "        return 1\n",
        "    else:\n",
        "        return n * factorial(n-1)\n",
        "n=int(input(\"Input a number to compute the factiorial : \"))\n",
        "print(factorial(n))"
      ],
      "metadata": {
        "colab": {
          "base_uri": "https://localhost:8080/"
        },
        "id": "ApDm0HC9eVBW",
        "outputId": "9711f657-877e-4312-ef00-12d7507b7864"
      },
      "execution_count": null,
      "outputs": [
        {
          "name": "stdout",
          "output_type": "stream",
          "text": [
            "Input a number to compute the factiorial : 8\n"
          ]
        }
      ]
    },
    {
      "cell_type": "code",
      "source": [
        "def odd_values_string(str):\n",
        "  result = \"\" \n",
        "  for i in range(len(str)):\n",
        "    if i % 2 == 0:\n",
        "      result = result + str[i]\n",
        "  return result\n",
        "\n",
        "print(odd_values_string('abcdef'))\n",
        "print(odd_values_string('python'))"
      ],
      "metadata": {
        "id": "sXtMXR48ezXH"
      },
      "execution_count": null,
      "outputs": []
    },
    {
      "cell_type": "code",
      "source": [],
      "metadata": {
        "id": "qF_D2AINe7ZS"
      },
      "execution_count": null,
      "outputs": []
    },
    {
      "cell_type": "code",
      "source": [
        "class Point3D:\n",
        "  def __init__ (self,x,y,z):\n",
        "    self.x = x\n",
        "    self.y = y\n",
        "    self.z = z\n",
        "  def __str__(self):\n",
        "    return str((self.x, self.y, self.z))\n",
        "my_point = Point3D(1, 2, 3)\n",
        "print(my_point)\n"
      ],
      "metadata": {
        "id": "biQWRucmFYMb",
        "colab": {
          "base_uri": "https://localhost:8080/"
        },
        "outputId": "243fbccc-32b8-47ec-a424-d127c87155ae"
      },
      "execution_count": null,
      "outputs": [
        {
          "output_type": "stream",
          "name": "stdout",
          "text": [
            "(1, 2, 3)\n"
          ]
        }
      ]
    },
    {
      "cell_type": "code",
      "source": [],
      "metadata": {
        "id": "s5C2O9Y6n9eA"
      },
      "execution_count": null,
      "outputs": []
    },
    {
      "cell_type": "markdown",
      "source": [],
      "metadata": {
        "id": "UtTYFOBqtLbZ"
      }
    },
    {
      "cell_type": "code",
      "source": [
        "def u(n):\n",
        "    u=4\n",
        "    for i in range (1,n+1):\n",
        "      u=u**2-2*u\n",
        "    return u"
      ],
      "metadata": {
        "id": "3dTeMfjctMiV"
      },
      "execution_count": null,
      "outputs": []
    },
    {
      "cell_type": "code",
      "source": [
        "input(\"Name:\")\n",
        "input(\"Age:\")\n",
        "input(\"Hobbies:\")\n",
        "while True:      \n",
        "  h=input(\"t Hobbies\")\n",
        "  if h==\"stop\":\n",
        "    break\n",
        "    E(\"Hobbies\").add(h)\n",
        "  "
      ],
      "metadata": {
        "colab": {
          "base_uri": "https://localhost:8080/"
        },
        "id": "XxlxgOZn0AaB",
        "outputId": "02551a10-6cf0-4c84-9cfa-08a657044678"
      },
      "execution_count": null,
      "outputs": [
        {
          "name": "stdout",
          "output_type": "stream",
          "text": [
            "Name:Marwa\n",
            "Age:16\n",
            "Hobbies:DOrmir\n",
            "t HobbiesAvoir des 20\n",
            "t Hobbiesstop\n"
          ]
        }
      ]
    },
    {
      "cell_type": "code",
      "source": [],
      "metadata": {
        "id": "jGxoSXSoz5t3"
      },
      "execution_count": null,
      "outputs": []
    }
  ]
}